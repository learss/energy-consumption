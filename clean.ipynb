{
 "cells": [
  {
   "cell_type": "markdown",
   "metadata": {},
   "source": [
    "# Introduction\n",
    "\n",
    "With the current market for energy being at record highs and having recently moved into an old stone house with no central heating, the balance between staying warm and not breaking the bank has never been harder. The purpose of this analysis is to utilise my Octopus Energy smart meter data to better understand my current household energy usage in the hope of finding improvement opportunities.\n",
    "\n",
    "I also have one eye on the future with the desire to one day, have smart sensors around the house recording temperature & humidity and recording all that data into one central location. With 30 min agile pricing from Octopus Energy, external weather data and target temperature ranges, this could be a great test bed for AI driven home management."
   ]
  },
  {
   "cell_type": "code",
   "execution_count": 3,
   "metadata": {},
   "outputs": [],
   "source": [
    "# getting necessary libraries\n",
    "import numpy as np\n",
    "import pandas as pd\n",
    "import seaborn as sns\n",
    "import matplotlib.pyplot as plt\n",
    "sns.set_theme(style=\"white\", rc={\"axes.facecolor\": (0, 0, 0, 0)})\n"
   ]
  },
  {
   "cell_type": "markdown",
   "metadata": {},
   "source": [
    "## Reading the data\n",
    "\n",
    "I've downloaded my Octopus data from the My Account page going back to when we first moved into the home. This is then read into our notebook and tidied up by:\n",
    "\n",
    "* Remove spaces in the header row\n",
    "* Convert dates to datetime format\n"
   ]
  },
  {
   "cell_type": "code",
   "execution_count": 100,
   "metadata": {},
   "outputs": [
    {
     "name": "stdout",
     "output_type": "stream",
     "text": [
      "   Consumption(kWh)                       Start                         End  \\\n",
      "0             0.065   2020-10-28T23:30:00+00:00   2020-10-29T00:00:00+00:00   \n",
      "1             0.075   2020-10-29T00:00:00+00:00   2020-10-29T00:30:00+00:00   \n",
      "2             0.073   2020-10-29T00:30:00+00:00   2020-10-29T01:00:00+00:00   \n",
      "3             0.065   2020-10-29T01:00:00+00:00   2020-10-29T01:30:00+00:00   \n",
      "4             0.075   2020-10-29T01:30:00+00:00   2020-10-29T02:00:00+00:00   \n",
      "\n",
      "                  startdate  month month_long  year  \n",
      "0 2020-10-28 23:30:00+00:00     10    October  2020  \n",
      "1 2020-10-29 00:00:00+00:00     10    October  2020  \n",
      "2 2020-10-29 00:30:00+00:00     10    October  2020  \n",
      "3 2020-10-29 01:00:00+00:00     10    October  2020  \n",
      "4 2020-10-29 01:30:00+00:00     10    October  2020  \n"
     ]
    }
   ],
   "source": [
    "# read data in and clean\n",
    "df = pd.read_csv('data.csv')\n",
    "df.columns = df.columns.str.replace(' ', '')\n",
    "\n",
    "# create new date columns\n",
    "df['startdate'] =  pd.to_datetime(df['Start'], infer_datetime_format=True, utc=True)\n",
    "df['month'] = pd.to_datetime(df['startdate']).dt.month # we store the month in a separate column\n",
    "df['month_long'] = pd.to_datetime(df['startdate']).dt.month_name() # we store the month in a separate column\n",
    "df['year'] = pd.to_datetime(df['startdate']).dt.year\n",
    "print(df.head())"
   ]
  },
  {
   "cell_type": "code",
   "execution_count": 105,
   "metadata": {},
   "outputs": [
    {
     "name": "stdout",
     "output_type": "stream",
     "text": [
      "<class 'pandas.core.frame.DataFrame'>\n",
      "RangeIndex: 32449 entries, 0 to 32448\n",
      "Data columns (total 7 columns):\n",
      " #   Column            Non-Null Count  Dtype              \n",
      "---  ------            --------------  -----              \n",
      " 0   Consumption(kWh)  32449 non-null  float64            \n",
      " 1   Start             32449 non-null  object             \n",
      " 2   End               32449 non-null  object             \n",
      " 3   startdate         32449 non-null  datetime64[ns, UTC]\n",
      " 4   month             32449 non-null  int64              \n",
      " 5   month_long        32449 non-null  object             \n",
      " 6   year              32449 non-null  int64              \n",
      "dtypes: datetime64[ns, UTC](1), float64(1), int64(2), object(3)\n",
      "memory usage: 1.7+ MB\n",
      "   year  Consumption(kWh)\n",
      "0  2020              3073\n",
      "1  2021             17520\n",
      "2  2022             11856\n"
     ]
    }
   ],
   "source": [
    "# Summarise the Data\n",
    "df.info()\n",
    "df.describe().round()\n",
    "\n",
    "# Check Yearly values to be careful of partially complete years\n",
    "print(df.sort_values(['startdate'],ascending=True).groupby('year').count()['Consumption(kWh)'].reset_index())\n"
   ]
  },
  {
   "cell_type": "markdown",
   "metadata": {},
   "source": [
    "# Visualising consumption data over the year\n",
    "Let's start by looking at a summary of total monthly consumption by month over the year. Obviously, we're expecting this to be lower in summer when the heating is off, and higher in winter"
   ]
  },
  {
   "cell_type": "code",
   "execution_count": 83,
   "metadata": {},
   "outputs": [
    {
     "name": "stdout",
     "output_type": "stream",
     "text": [
      "The max month consumed 2152.183\n",
      "The min month consumed 465.408\n",
      "The average month consumed 1270.1358333333333\n"
     ]
    },
    {
     "data": {
      "image/png": "[encoded data removed]",
      "text/plain": [
       "<Figure size 432x288 with 1 Axes>"
      ]
     },
     "metadata": {},
     "output_type": "display_data"
    }
   ],
   "source": [
    "#month_mean_serie = df.groupby('month')['Consumption(kWh)'].sum()\n",
    "#df['mean_month'] = df['month'].map(month_mean_serie)\n",
    "df_temp = df.sort_values(['startdate'],ascending=True).groupby('month').sum()['Consumption(kWh)'].reset_index()\n",
    "plt.bar(df_temp['month'], df_temp['Consumption(kWh)'])\n",
    "print(f\"The max month consumed {max(df_temp['Consumption(kWh)'])}\")\n",
    "print(f\"The min month consumed {min(df_temp['Consumption(kWh)'])}\")\n",
    "print(f\"The average month consumed {(df_temp['Consumption(kWh)']).mean()}\")"
   ]
  },
  {
   "cell_type": "markdown",
   "metadata": {},
   "source": [
    "As expected, our consumption appears to be highest in the winter months and lower in summer. We can confirm this even further by utilising some stats from the Met Office on UK average temperatures which can be seen below"
   ]
  },
  {
   "cell_type": "code",
   "execution_count": 95,
   "metadata": {},
   "outputs": [
    {
     "name": "stdout",
     "output_type": "stream",
     "text": [
      "Uk Average Temp and household electricity consumption score a -0.8932374352456659 correlation\n"
     ]
    },
    {
     "data": {
      "image/png": "[encoded data removed]",
      "text/plain": [
       "<Figure size 432x288 with 2 Axes>"
      ]
     },
     "metadata": {},
     "output_type": "display_data"
    }
   ],
   "source": [
    "fig,ax = plt.subplots()\n",
    "df_temp['uk_avg_temp'] = [7.98, 8.63, 11.29,14.41, 17.68, 20.71, 23.06, 22.50, 19.44,15.09, 10.88, 8.23]\n",
    "#add first bar to plot\n",
    "ax.bar(df_temp['month'], df_temp['Consumption(kWh)'])\n",
    "\n",
    "#add x-axis label\n",
    "ax.set_xlabel('Month', fontsize=14)\n",
    "\n",
    "#add y-axis label\n",
    "ax.set_ylabel('Consumption (kWh)', fontsize=16)\n",
    "\n",
    "#define second y-axis that shares x-axis with current plot\n",
    "ax2 = ax.twinx()\n",
    "\n",
    "#add second line to plot\n",
    "ax2.plot(df_temp['month'], df_temp['uk_avg_temp'], color='red')\n",
    "\n",
    "#add second y-axis label\n",
    "ax2.set_ylabel('Avg UK Temperature', fontsize=16)\n",
    "\n",
    "print(f\"Uk Average Temp and household electricity consumption score a {np.corrcoef(df_temp['uk_avg_temp'], df_temp['Consumption(kWh)'])[0,1]} correlation\")\n"
   ]
  },
  {
   "cell_type": "code",
   "execution_count": null,
   "metadata": {},
   "outputs": [],
   "source": []
  }
 ],
 "metadata": {
  "kernelspec": {
   "display_name": "Python 3 (ipykernel)",
   "language": "python",
   "name": "python3"
  },
  "language_info": {
   "codemirror_mode": {
    "name": "ipython",
    "version": 3
   },
   "file_extension": ".py",
   "mimetype": "text/x-python",
   "name": "python",
   "nbconvert_exporter": "python",
   "pygments_lexer": "ipython3",
   "version": "3.9.12"
  },
  "vscode": {
   "interpreter": {
    "hash": "a8edc3672d60f8cd43d2c43854db28583b891c7c6fb1f80f88ee99923c8db06f"
   }
  }
 },
 "nbformat": 4,
 "nbformat_minor": 4
}
